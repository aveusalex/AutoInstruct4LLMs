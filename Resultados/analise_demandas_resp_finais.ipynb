{
 "cells": [
  {
   "cell_type": "code",
   "execution_count": 2,
   "id": "initial_id",
   "metadata": {
    "collapsed": true,
    "ExecuteTime": {
     "end_time": "2024-01-07T04:51:05.751241Z",
     "start_time": "2024-01-07T04:51:05.748890Z"
    }
   },
   "outputs": [],
   "source": [
    "import pandas as pd\n",
    "import os"
   ]
  },
  {
   "cell_type": "code",
   "outputs": [],
   "source": [
    "cwd = os.getcwd().split(\"AutoInstruct4LLMs\")[0] + \"AutoInstruct4LLMs\""
   ],
   "metadata": {
    "collapsed": false,
    "ExecuteTime": {
     "end_time": "2024-01-07T04:51:48.390383Z",
     "start_time": "2024-01-07T04:51:48.386335Z"
    }
   },
   "id": "3420454275fec543",
   "execution_count": 4
  },
  {
   "cell_type": "code",
   "outputs": [],
   "source": [
    "data = f\"{cwd}/dados/gold/demandas_repostas_final.csv\""
   ],
   "metadata": {
    "collapsed": false,
    "ExecuteTime": {
     "end_time": "2024-01-07T04:51:48.628280Z",
     "start_time": "2024-01-07T04:51:48.623286Z"
    }
   },
   "id": "c8ef9bab184cbfa3",
   "execution_count": 5
  },
  {
   "cell_type": "code",
   "outputs": [],
   "source": [
    "df = pd.read_csv(data)"
   ],
   "metadata": {
    "collapsed": false,
    "ExecuteTime": {
     "end_time": "2024-01-07T04:51:55.197092Z",
     "start_time": "2024-01-07T04:51:55.042132Z"
    }
   },
   "id": "cebe39e8ce641414",
   "execution_count": 6
  },
  {
   "cell_type": "code",
   "outputs": [
    {
     "name": "stdout",
     "output_type": "stream",
     "text": [
      "<class 'pandas.core.frame.DataFrame'>\n",
      "RangeIndex: 3117 entries, 0 to 3116\n",
      "Data columns (total 6 columns):\n",
      " #   Column                  Non-Null Count  Dtype  \n",
      "---  ------                  --------------  -----  \n",
      " 0   arquivo                 3117 non-null   object \n",
      " 1   fala_reescrita_cliente  3117 non-null   object \n",
      " 2   similaridade_max        3117 non-null   float64\n",
      " 3   validade_demanda        3117 non-null   int64  \n",
      " 4   respostas_refinadas     3117 non-null   object \n",
      " 5   respostas_unificadas    3117 non-null   object \n",
      "dtypes: float64(1), int64(1), object(4)\n",
      "memory usage: 146.2+ KB\n"
     ]
    }
   ],
   "source": [
    "df.info()"
   ],
   "metadata": {
    "collapsed": false,
    "ExecuteTime": {
     "end_time": "2024-01-07T04:51:59.105753Z",
     "start_time": "2024-01-07T04:51:59.103073Z"
    }
   },
   "id": "a5150bbd0dcd356f",
   "execution_count": 7
  },
  {
   "cell_type": "code",
   "outputs": [],
   "source": [
    "sample = df.sample(10)"
   ],
   "metadata": {
    "collapsed": false,
    "ExecuteTime": {
     "end_time": "2024-01-07T05:02:46.556515Z",
     "start_time": "2024-01-07T05:02:46.534563Z"
    }
   },
   "id": "2fb9eafe4017d5a9",
   "execution_count": 13
  },
  {
   "cell_type": "code",
   "outputs": [
    {
     "name": "stdout",
     "output_type": "stream",
     "text": [
      "\u001B[92mCliente: \"Meu nome é NOME do Livramento. Estou ligando para reclamar da TIM, pois tenho uma conta telefônica fixa e eles não estão sistematizando o prefeito no aparelho como prometido. Além disso, paguei a conta e continuam me cobrando diariamente. Já reclamei no PROCON, mas não consigo falar com a operadora, pois só oferecem atendimento digital. Nas lojas e na auditoria também não conseguem resolver o problema. Preciso que eles mudem o atendimento e resolvam essa situação. Obrigado.\"\u001B[0m\n",
      "\u001B[91mResposta: A reclamação do cliente é sobre a operadora TIM, que não está sistematizando o prefeito no aparelho como prometido e continua cobrando mesmo após o pagamento da conta. O cliente já reclamou no PROCON, mas não conseguiu falar com a operadora, pois só oferecem atendimento digital. Nas lojas e na auditoria também não conseguiram resolver o problema. O cliente precisa que a operadora mude o atendimento e resolva essa situação. Registrei sua reclamação informando que você está sem internet e não consegue falar com a operadora. Solicitei o reparo com urgência e o ressarcimento pela inoperância. A operadora terá um prazo de X dias para dar um retorno, mas pode ser que eles entrem em contato antes. Se a resposta não for adequada, você poderá reabrir a reclamação em até X dias. Peço desculpas pelo inconveniente e agradeço sua compreensão.\u001B[0m\n",
      "----------------------------------------------------------------------------------------------------\n",
      "\u001B[92mCliente: Minha televisão da Oi TV não está pegando nenhum canal, apenas os canais do 1 para baixo. Já liguei várias vezes para resolver, mas não resolveram nada. Como faço para resolver esse problema?\u001B[0m\n",
      "\u001B[91mResposta: Para resolver o problema da sua televisão da Oi TV que não está pegando nenhum canal, é recomendado que você entre em contato com a ouvidoria da sua operadora. Caso o problema não seja resolvido dentro do prazo fornecido pela ouvidoria, você pode entrar em contato conosco novamente informando o número do protocolo da sua reclamação. Nós iremos encaminhar sua ligação para um de nossos atendentes para prosseguir com o atendimento. Por questões de segurança, essa ligação poderá ser gravada.\u001B[0m\n",
      "----------------------------------------------------------------------------------------------------\n",
      "\u001B[92mCliente: \"Olá, meu nome é NOME e estou com problemas para contratar o serviço de banda larga da empresa. Já tentei fazer a adesão várias vezes, tanto em loja física quanto pelo site e telefone, mas o cancelamento é feito sem justificativa. Gostaria de saber o que está acontecendo e como resolver essa situação. Obrigado.\"\u001B[0m\n",
      "\u001B[91mResposta: Olá, NOME. Lamento pelo problema que você está enfrentando ao tentar contratar o serviço de banda larga da nossa empresa. Já foram realizadas várias tentativas de adesão, mas o cancelamento é feito sem justificativa. Para resolver essa situação, vou verificar o seu caso e entrar em contato com você em até X dias. Peço desculpas pelo inconveniente e agradeço pela sua paciência.\u001B[0m\n",
      "----------------------------------------------------------------------------------------------------\n",
      "\u001B[92mCliente: \"Eu já solicitei revisões e atualizações, mas não houve melhora no serviço. O número de protocolo que me foi passado está incorreto. O que devo fazer agora?\"\u001B[0m\n",
      "\u001B[91mResposta: Peço desculpas pelo inconveniente causado pela incorreção do número de protocolo. Para resolver essa questão, recomendo que você entre em contato com a ouvidoria da prestadora. Eles têm a obrigação de tratar das solicitações não resolvidas em primeiro nível. Posso fornecer o número da ouvidoria para você? Além disso, peço desculpas pela ligação ruim, mas preciso confirmar novamente o número de protocolo que você ligou. Por favor, informe novamente o número correto. Aguarde a resposta da operadora, pois eles são responsáveis por fazer o ressarcimento dos dias de inoperância e corrigir o valor.\u001B[0m\n",
      "----------------------------------------------------------------------------------------------------\n",
      "\u001B[92mCliente: Preciso ligar para um número antes de entrar em contato com vocês? O que devo fazer?\u001B[0m\n",
      "\u001B[91mResposta: Para entrar em contato conosco, não é necessário ligar para um número específico. Basta fornecer seu nome, CPF ou número de protocolo gerado na ouvidoria e sua ligação será encaminhada para um de nossos atendentes. É importante ressaltar que, por questões de segurança, a ligação poderá ser gravada. Se você está recebendo ligações indesejadas, recomendamos que você se cadastre no site \"Não Me Perturbe\" para bloquear ofertas e serviços de telecomunicação. No entanto, se as ligações forem algum tipo de trote, infelizmente não é possível bloqueá-las. Nesse caso, você pode entrar em contato com a sua operadora para verificar se eles oferecem algum serviço de bloqueio de chamadas. Espero ter ajudado. Posso ajudar com mais alguma coisa?\u001B[0m\n",
      "----------------------------------------------------------------------------------------------------\n",
      "\u001B[92mCliente: \"Eu fiz uma portabilidade em abril e agora meu nome foi negativado por uma multa rescisória que não se aplica devido à instabilidade da internet no meu bairro, conforme diagnosticado pelo suporte da Claro. Eles estão me cobrando essa multa, mas gostaria de saber se posso resolver isso diretamente com vocês ou se preciso de um advogado. Obrigado.\"\u001B[0m\n",
      "\u001B[91mResposta: Olá, Sr. NOME. Entendo que você fez uma portabilidade em abril e agora está sendo cobrado por uma multa rescisória indevida devido à instabilidade da internet no seu bairro. Nesse caso, você tem o direito de contestar essa cobrança, pois a operadora é responsável por garantir o funcionamento adequado do seu plano. Recomendo que entre em contato com a ouvidoria da Claro no número XXXX e informe sobre a situação, explicando que a sua linha não está funcionando corretamente. Eles devem fornecer um protocolo para o seu atendimento. Se não obtiver uma solução satisfatória, você pode solicitar a portabilidade e depois contestar a cobrança da multa, caso eles aleguem. Além disso, você pode fazer uma reclamação junto à Anatel para que eles possam auxiliá-lo nesse processo. Espero ter ajudado. Obrigado e tenha um bom dia.\u001B[0m\n",
      "----------------------------------------------------------------------------------------------------\n",
      "\u001B[92mCliente: Eu gostaria de saber qual é o número de protocolo para o meu chamado com a Claro. Preciso entrar em contato com eles para resolver um problema.\u001B[0m\n",
      "\u001B[91mResposta: Para resolver o seu problema com a Claro, é necessário entrar em contato com a ouvidoria da empresa informando o número do protocolo de sua reclamação. Eles poderão fornecer mais informações sobre o seu problema e dar uma resposta dentro de um prazo de dez dias. Além disso, é importante ressaltar que o protocolo é muito importante para a sua reclamação, por isso é necessário contar com a ouvidoria antes de abrir uma reclamação com a Anatel. Você também pode contestar a fatura, informando que contratou um plano no valor de R$--- e a fatura está acima desse valor. Após finalizar o registro da reclamação, não será possível incluir novas informações. Por favor, avalie o atendimento com uma nota de 1 a 5. Obrigado pelo contato.\u001B[0m\n",
      "----------------------------------------------------------------------------------------------------\n",
      "\u001B[92mCliente: Estou tendo um problema com a empresa de telefonia. Eles estão me cobrando uma conta de um plano que eu não contratei. Já entrei em contato com eles e tenho um protocolo, mas ainda não resolveram o problema. O que devo fazer?\u001B[0m\n",
      "\u001B[91mResposta: Entendo que você está enfrentando um problema com a empresa de telefonia, que está cobrando uma conta de um plano que você não contratou. Você já entrou em contato com eles e possui um protocolo, mas o problema ainda não foi resolvido. Recomendo que você entre em contato com a empresa novamente, informando o número do protocolo e explicando de forma resumida o problema. Solicite que corrijam o valor da fatura e restaurem os valores pagos a mais. Além disso, mencione a dificuldade em resolver o problema mesmo após o contato com a prestadora. Caso a resposta seja inadequada, você terá um prazo para reabrir a reclamação. Anote o número do protocolo e aguarde o contato da operadora. Se necessário, você pode entrar em contato com a ouvidoria da empresa.\u001B[0m\n",
      "----------------------------------------------------------------------------------------------------\n",
      "\u001B[92mCliente: Eu gostaria de fazer uma reclamação sobre a rádio Palmeiras FM em Palmeiras Goiás. O sinal da rádio interfere nas outras rádios da cidade, tornando impossível ouvir qualquer outra estação. Gostaria de registrar essa denúncia e saber como será feita a vistoria para resolver esse problema. Quanto tempo levará para averiguarem essa situação?\u001B[0m\n",
      "\u001B[91mResposta: Agradeço por entrar em contato conosco para registrar sua reclamação sobre a rádio Palmeiras FM em Palmeiras, Goiás. Entendemos que o sinal dessa rádio está causando interferência nas outras estações da cidade, tornando impossível ouvir qualquer outra rádio. Faremos uma vistoria para resolver esse problema o mais rápido possível. O prazo para averiguação dessa situação é de até X dias. Após a abertura da denúncia, você poderá acompanhar o andamento através do protocolo que será gerado agora. Recomendamos que entre em contato com a central da Anatel para obter mais informações. Agradecemos novamente pelo seu contato e estamos à disposição para qualquer outra informação.\u001B[0m\n",
      "----------------------------------------------------------------------------------------------------\n",
      "\u001B[92mCliente: Estou sem banda larga desde sexta-feira devido a um problema na fiação da rua. Agendei uma visita técnica para resolver a questão, mas o pessoal cancelou duas vezes alegando que eu não estava no local, mesmo estando presente. O que fazer para resolver esse problema?\u001B[0m\n",
      "\u001B[91mResposta: Entendo que você está enfrentando problemas com a sua banda larga desde sexta-feira devido a um problema na fiação da rua. Você agendou uma visita técnica, mas ela foi cancelada duas vezes, mesmo você estando presente. Para resolver esse problema, sugiro que você entre em contato com a sua provedora de internet, a Oi, e solicite o cancelamento da cobrança de multa devido aos cancelamentos das visitas técnicas. A Oi tem um prazo de X dias corridos para responder à sua solicitação. Caso a resposta seja inadequada, você tem X dias corridos para reabrir o chamado. Anote o número do protocolo: [número do protocolo]. Além disso, irei contestar a multa ou a instalação do serviço junto à operadora Oi, que terá um prazo de até X dias para responder à sua solicitação e entrar em contato com você. Caso a resposta seja inadequada, você terá um prazo de até X dias para reabrir a solicitação. O número do protocolo é ----. Vou agendar novamente uma visita técnica urgente para reparar o serviço e solicitar um abatimento no valor da sua fatura devido aos transtornos causados. Por favor, informe a cidade e o estado onde ocorre o problema para que eu possa prosseguir com o agendamento. Obrigado pela sua compreensão e desculpe pelo inconveniente.\u001B[0m\n",
      "----------------------------------------------------------------------------------------------------\n"
     ]
    }
   ],
   "source": [
    "for i, row in sample.iterrows():\n",
    "    print(f\"\\033[92mCliente: {row['fala_reescrita_cliente']}\\033[0m\")\n",
    "    print(f\"\\033[91mResposta: {row['respostas_unificadas']}\\033[0m\")\n",
    "    print(\"-\"*100)"
   ],
   "metadata": {
    "collapsed": false,
    "ExecuteTime": {
     "end_time": "2024-01-07T05:02:46.931139Z",
     "start_time": "2024-01-07T05:02:46.926545Z"
    }
   },
   "id": "1a0df50484508888",
   "execution_count": 14
  },
  {
   "cell_type": "markdown",
   "source": [
    "# V2 - Novo prompt pedindo para ser objetivo e claro, evitando repetir a demanda."
   ],
   "metadata": {
    "collapsed": false
   },
   "id": "2fc3149f1eb1ffa1"
  },
  {
   "cell_type": "code",
   "outputs": [],
   "source": [
    "data = f\"{cwd}/dados/gold/demandas_repostas_final_v2.csv\""
   ],
   "metadata": {
    "collapsed": false,
    "ExecuteTime": {
     "end_time": "2024-01-07T13:29:26.092191Z",
     "start_time": "2024-01-07T13:29:26.085524Z"
    }
   },
   "id": "62098e70c167f714",
   "execution_count": 15
  },
  {
   "cell_type": "code",
   "outputs": [],
   "source": [
    "df = pd.read_csv(data)"
   ],
   "metadata": {
    "collapsed": false,
    "ExecuteTime": {
     "end_time": "2024-01-07T13:30:54.524929Z",
     "start_time": "2024-01-07T13:30:54.365830Z"
    }
   },
   "id": "27989b1209fc4433",
   "execution_count": 16
  },
  {
   "cell_type": "code",
   "outputs": [
    {
     "name": "stdout",
     "output_type": "stream",
     "text": [
      "<class 'pandas.core.frame.DataFrame'>\n",
      "RangeIndex: 3117 entries, 0 to 3116\n",
      "Data columns (total 6 columns):\n",
      " #   Column                  Non-Null Count  Dtype  \n",
      "---  ------                  --------------  -----  \n",
      " 0   arquivo                 3117 non-null   object \n",
      " 1   fala_reescrita_cliente  3117 non-null   object \n",
      " 2   similaridade_max        3117 non-null   float64\n",
      " 3   validade_demanda        3117 non-null   int64  \n",
      " 4   respostas_refinadas     3117 non-null   object \n",
      " 5   respostas_unificadas    3117 non-null   object \n",
      "dtypes: float64(1), int64(1), object(4)\n",
      "memory usage: 146.2+ KB\n"
     ]
    }
   ],
   "source": [
    "df.info()"
   ],
   "metadata": {
    "collapsed": false,
    "ExecuteTime": {
     "end_time": "2024-01-07T13:30:55.100108Z",
     "start_time": "2024-01-07T13:30:55.096511Z"
    }
   },
   "id": "1bc5ad40d73d222a",
   "execution_count": 17
  },
  {
   "cell_type": "code",
   "outputs": [],
   "source": [
    "sample = df.sample(10)"
   ],
   "metadata": {
    "collapsed": false,
    "ExecuteTime": {
     "end_time": "2024-01-07T13:31:04.863329Z",
     "start_time": "2024-01-07T13:31:04.856062Z"
    }
   },
   "id": "86d8f1d54fed4425",
   "execution_count": 18
  },
  {
   "cell_type": "code",
   "outputs": [
    {
     "name": "stdout",
     "output_type": "stream",
     "text": [
      "\u001B[92mCliente: \"Olá, bom dia! Sou a NOME, esposa do NOME, filho do amigo de Ávila, dono do CPS. Estou ligando da Oi, né? Ah, Matel.\"\u001B[0m\n",
      "\u001B[91mResposta: Olá, boa tarde! Sou o atendente NOME da Anatel. Poderia confirmar o nome completo do titular do serviço e o número de telefone para contato? Verifiquei que foi aberta uma reclamação, que está em tratamento pela operadora. O prazo para resposta é até o dia [data]. Eles entrarão em contato para responder. Se desejar, posso permanecer em linha para que possa avaliar meu atendimento. Agradeço sua atenção e tenha uma boa tarde.\u001B[0m\n",
      "----------------------------------------------------------------------------------------------------\n",
      "\u001B[92mCliente: \"Boa tarde, meu nome é Congeânia e sou cliente da Vivo. Já entrei em contato com a ouvidoria, mas até agora não recebi nenhuma resposta. Eles disseram que entraram em contato com a última instância da ouvidoria. O que devo fazer agora? Preciso de um protocolo para resolver essa situação. Obrigada. Tchau.\"\u001B[0m\n",
      "\u001B[91mResposta: Boa tarde, Congeânia. Lamento pela falta de resposta da ouvidoria da Vivo. Para resolver essa situação, é importante que você entre em contato novamente com a ouvidoria da operadora e informe o protocolo anterior. Eles têm a obrigação de tratar sua solicitação não resolvida no primeiro nível. Caso precise, o número da ouvidoria da Vivo é --. Além disso, é importante que você anote o número do protocolo fornecido pela ouvidoria para que possamos registrar a reclamação. Posso ajudar em mais alguma coisa?\u001B[0m\n",
      "----------------------------------------------------------------------------------------------------\n",
      "\u001B[92mCliente: \"Recebi uma ligação da empresa de telefonia Oi, mas não pude atender porque estava em uma consulta médica. Agora eles estão pedindo para eu entrar em contato e confirmar meu número de telefone. O que devo fazer?\"\u001B[0m\n",
      "\u001B[91mResposta: A empresa de telefonia Oi entrou em contato com o cliente para confirmar seu número de telefone. Para agilizar o atendimento, é necessário fornecer o CPF. A ligação será encaminhada para um atendente. Além disso, é possível entrar em contato com a ouvidoria da Oi em outro número. O cliente também pode solicitar o desbloqueio da linha, informando o estado e a cidade onde ocorre o problema. A Oi terá um prazo de até 10 dias para responder a reclamação e enviar um protocolo por e-mail. Por fim, o cliente é solicitado a avaliar o atendimento recebido.\u001B[0m\n",
      "----------------------------------------------------------------------------------------------------\n",
      "\u001B[92mCliente: \"Estou com problemas para realizar o pagamento da minha fatura da Vivo. O valor está sendo retornado como erro e fui informado na agência que meu número está como se estivesse para venda. No entanto, ainda consigo usar o WhatsApp. Estou com medo de perder meu número, que tenho há mais de 2 anos e agora é empresarial. Quero fazer uma recarga ou um plano, mas não consigo, pois ninguém sabe onde estão os dados desse chip descartado. Minha dúvida é se o número está na Vivo ou não, pois a colaboradora da Vivo disse que não consta lá. O que devo fazer?\"\u001B[0m\n",
      "\u001B[91mResposta: Entendo que você está enfrentando problemas para realizar o pagamento da sua fatura da Vivo e que o seu número está sendo tratado como se estivesse para venda. No entanto, você ainda consegue utilizar o WhatsApp. Você está preocupado em perder o seu número, que é empresarial e que você possui há mais de 2 anos. Além disso, você mencionou que não consegue fazer uma recarga ou um plano, pois ninguém sabe onde estão os dados desse chip descartado. A colaboradora da Vivo informou que o número não consta lá e você está em dúvida se o número está na Vivo ou não. \n",
      "\n",
      "Peço desculpas pela minha resposta anterior, pois ela não foi útil para resolver o seu problema. Vou encaminhar a sua solicitação para a equipe responsável e eles entrarão em contato com você em até 10 dias úteis. Se você não concordar com a solução proposta pela Vivo, você tem mais 7 dias para reabrir a solicitação. \n",
      "\n",
      "Por favor, me informe qual é a cidade e estado onde está ocorrendo esse problema para que eu possa ajudar de forma mais precisa.\u001B[0m\n",
      "----------------------------------------------------------------------------------------------------\n",
      "\u001B[92mCliente: Preciso fazer o bloqueio do meu telefone que foi roubado. O que devo fazer?\u001B[0m\n",
      "\u001B[91mResposta: Para bloquear o seu telefone que foi roubado, você precisa seguir os seguintes passos:\n",
      "\n",
      "1. Registre um boletim de ocorrência na delegacia, informando o número do IMEI do aparelho.\n",
      "2. Entre em contato com a sua operadora de telefonia e solicite o bloqueio do aparelho, informando o número do IMEI ou o número do e-mail cadastrado no chip do celular roubado.\n",
      "\n",
      "Essas são as medidas necessárias para bloquear o seu telefone roubado. Lembre-se também de registrar um boletim de ocorrência.\u001B[0m\n",
      "----------------------------------------------------------------------------------------------------\n",
      "\u001B[92mCliente: Eu perdi o controle remoto da minha TV Sky e gostaria de solicitar um novo. Como faço para obter um novo controle remoto?\u001B[0m\n",
      "\u001B[91mResposta: Para solicitar um novo controle remoto da sua TV Sky, recomendo que entre em contato com a operadora Sky. Informe o número de protocolo ao entrar em contato para facilitar o atendimento. Certifique-se de fornecer seu nome completo e telefone para contato. Descreva o problema detalhadamente, informando que o controle está com defeito e inutilizado, e que não foi enviado um novo controle. Solicite a troca do controle como providência para a utilização do serviço. A Sky tem um prazo de X dias corridos para responder à sua solicitação. Caso não receba uma resposta adequada, você pode reabrir a solicitação após X dias corridos. Anote o número de protocolo desta reclamação: ---. Agradeço por participar da nossa pesquisa de satisfação. Obrigado pela atenção.\u001B[0m\n",
      "----------------------------------------------------------------------------------------------------\n",
      "\u001B[92mCliente: \"Estou recebendo cobranças de um plano da TIM que eu não contratei. Já fiz reclamações e fui informado que tenho duas faturas em aberto no meu nome. Como faço para resolver essa situação e limpar meu nome?\"\u001B[0m\n",
      "\u001B[91mResposta: Entendo que você está recebendo cobranças de um plano da TIM que não contratou e já fez reclamações sobre o assunto. Foi informado que você possui duas faturas em aberto em seu nome. Para resolver essa situação e limpar seu nome, vou registrar sua reclamação e solicitar o cancelamento das cobranças indevidas. A TIM tem um prazo de dias para entrar em contato com você e solucionar sua solicitação. Caso não fique satisfeito com a resposta, você pode reabrir o protocolo na Anatel em até dias. O número do protocolo será enviado para o seu e-mail. Por favor, aguarde na linha para avaliar o meu atendimento. Obrigado e tenha uma boa tarde.\u001B[0m\n",
      "----------------------------------------------------------------------------------------------------\n",
      "\u001B[92mCliente: \"Boa noite, meu nome é NOME e estou ligando para reclamar sobre o valor cobrado indevidamente na fatura do plano da Tim. Gostaria de fazer o cancelamento dos três planos que tenho com vocês. Vocês vão reembolsar o valor cobrado a mais durante um mês? Existe outro telefone para entrar em contato e resolver essa situação? O que devo fazer para abrir uma reclamação? Obrigado.\"\u001B[0m\n",
      "\u001B[91mResposta: Boa noite, NOME. Lamento pelo ocorrido com a cobrança indevida na fatura do plano da Tim. Para resolver essa situação, sugiro que entre em contato com a ouvidoria da empresa pelo número --. Eles poderão fazer o cancelamento dos planos e reembolsar o valor cobrado a mais durante um mês. Anote o protocolo que eles fornecerem para acompanhamento. Caso tenha alguma dúvida, estou à disposição. Agradeço pela ligação.\u001B[0m\n",
      "----------------------------------------------------------------------------------------------------\n",
      "\u001B[92mCliente: O controle do meu aparelho Sky está com defeito e não está ligando. Já pedi para enviarem um novo, mas também preciso cancelar o plano com a Sky e sei que há uma multa. Como proceder?\u001B[0m\n",
      "\u001B[91mResposta: Para cancelar o plano com a Sky e solicitar um novo controle, é necessário entrar em contato com a operadora. É importante lembrar que pode haver uma multa pelo cancelamento antecipado. Você já solicitou o envio de um novo controle devido ao defeito no controle atual. A operadora Sky tem um prazo de resposta de X dias e você tem X dias para reabrir o caso, se necessário. Anote o número do protocolo para futuras referências. Se tiver mais alguma dúvida, pode entrar em contato a qualquer momento. Obrigado.\u001B[0m\n",
      "----------------------------------------------------------------------------------------------------\n",
      "\u001B[92mCliente: \"Já enviei meus documentos, mas não resolveram o problema. A ouvidoria também não ajudou. Preciso que minha linha seja ativada para o plano pré-pago. O que devo fazer?\"\u001B[0m\n",
      "\u001B[91mResposta: Para resolver o problema com a ativação indevida das linhas pré-pagas, é necessário entrar em contato com a ouvidoria da operadora Tim e obter um número de protocolo. Com esse número, é possível registrar uma reclamação na Anatel. Caso já tenha feito isso e o problema não tenha sido resolvido, é importante reabrir a reclamação informando o número do protocolo da ouvidoria.\u001B[0m\n",
      "----------------------------------------------------------------------------------------------------\n"
     ]
    }
   ],
   "source": [
    "for i, row in sample.iterrows():\n",
    "    print(f\"\\033[92mCliente: {row['fala_reescrita_cliente']}\\033[0m\")\n",
    "    print(f\"\\033[91mResposta: {row['respostas_unificadas']}\\033[0m\")\n",
    "    print(\"-\"*100)"
   ],
   "metadata": {
    "collapsed": false,
    "ExecuteTime": {
     "end_time": "2024-01-07T13:31:05.811517Z",
     "start_time": "2024-01-07T13:31:05.789996Z"
    }
   },
   "id": "89458748948fad6c",
   "execution_count": 19
  },
  {
   "cell_type": "code",
   "outputs": [],
   "source": [],
   "metadata": {
    "collapsed": false
   },
   "id": "c3500e313af9845d"
  }
 ],
 "metadata": {
  "kernelspec": {
   "display_name": "Python 3",
   "language": "python",
   "name": "python3"
  },
  "language_info": {
   "codemirror_mode": {
    "name": "ipython",
    "version": 2
   },
   "file_extension": ".py",
   "mimetype": "text/x-python",
   "name": "python",
   "nbconvert_exporter": "python",
   "pygments_lexer": "ipython2",
   "version": "2.7.6"
  }
 },
 "nbformat": 4,
 "nbformat_minor": 5
}
